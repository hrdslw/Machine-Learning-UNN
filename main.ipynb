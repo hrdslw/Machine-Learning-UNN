{
 "cells": [
  {
   "cell_type": "code",
   "execution_count": 42,
   "id": "93d8d06d",
   "metadata": {},
   "outputs": [],
   "source": [
    "import pandas as pd\n",
    "import numpy as np\n",
    "import matplotlib.pyplot as plt\n",
    "import seaborn as sns\n",
    "import warnings as wr\n",
    "import starbars\n",
    "from scipy.stats import mannwhitneyu \n",
    "from pathlib import Path\n",
    "\n",
    "wr.filterwarnings('ignore')\n",
    "\n",
    "# Loading and reading dataset\n",
    "work_dir = Path.cwd().parent.parent / 'Work'\n",
    "df = pd.read_csv(work_dir / \"BankChurners.csv\")"
   ]
  },
  {
   "cell_type": "code",
   "execution_count": 43,
   "id": "513c5521",
   "metadata": {},
   "outputs": [
    {
     "data": {
      "text/plain": [
       "(10127, 23)"
      ]
     },
     "execution_count": 43,
     "metadata": {},
     "output_type": "execute_result"
    }
   ],
   "source": [
    "df.shape"
   ]
  },
  {
   "cell_type": "code",
   "execution_count": 44,
   "id": "51c5862c",
   "metadata": {},
   "outputs": [
    {
     "data": {
      "text/plain": [
       "(10127, 21)"
      ]
     },
     "execution_count": 44,
     "metadata": {},
     "output_type": "execute_result"
    }
   ],
   "source": [
    "columns_to_drop = ['Naive_Bayes_Classifier_Attrition_Flag_Card_Category_Contacts_Count_12_mon_Dependent_count_Education_Level_Months_Inactive_12_mon_1',\n",
    "                  'Naive_Bayes_Classifier_Attrition_Flag_Card_Category_Contacts_Count_12_mon_Dependent_count_Education_Level_Months_Inactive_12_mon_2']\n",
    "\n",
    "df = df.drop(columns_to_drop, axis=1)\n",
    "df.shape"
   ]
  },
  {
   "cell_type": "code",
   "execution_count": 45,
   "id": "7da0fa92",
   "metadata": {},
   "outputs": [
    {
     "name": "stdout",
     "output_type": "stream",
     "text": [
      "Уникальные классы: ['Existing Customer' 'Attrited Customer']\n",
      "Количество классов: 2\n"
     ]
    }
   ],
   "source": [
    "print(f\"Уникальные классы: {df['Attrition_Flag'].unique()}\")\n",
    "print(f\"Количество классов: {df['Attrition_Flag'].nunique()}\")"
   ]
  },
  {
   "cell_type": "code",
   "execution_count": 46,
   "id": "8dc3491a",
   "metadata": {},
   "outputs": [
    {
     "data": {
      "text/plain": [
       "CLIENTNUM                   0\n",
       "Attrition_Flag              0\n",
       "Customer_Age                0\n",
       "Gender                      0\n",
       "Dependent_count             0\n",
       "Education_Level             0\n",
       "Marital_Status              0\n",
       "Income_Category             0\n",
       "Card_Category               0\n",
       "Months_on_book              0\n",
       "Total_Relationship_Count    0\n",
       "Months_Inactive_12_mon      0\n",
       "Contacts_Count_12_mon       0\n",
       "Credit_Limit                0\n",
       "Total_Revolving_Bal         0\n",
       "Avg_Open_To_Buy             0\n",
       "Total_Amt_Chng_Q4_Q1        0\n",
       "Total_Trans_Amt             0\n",
       "Total_Trans_Ct              0\n",
       "Total_Ct_Chng_Q4_Q1         0\n",
       "Avg_Utilization_Ratio       0\n",
       "dtype: int64"
      ]
     },
     "execution_count": 46,
     "metadata": {},
     "output_type": "execute_result"
    }
   ],
   "source": [
    "df.isna().sum()"
   ]
  },
  {
   "cell_type": "code",
   "execution_count": 47,
   "id": "d3dea201",
   "metadata": {},
   "outputs": [
    {
     "name": "stdout",
     "output_type": "stream",
     "text": [
      "Attrition_Flag\n",
      "Existing Customer    8500\n",
      "Attrited Customer    1627\n",
      "Name: count, dtype: int64\n"
     ]
    }
   ],
   "source": [
    "print(df['Attrition_Flag'].value_counts())"
   ]
  },
  {
   "cell_type": "code",
   "execution_count": 48,
   "id": "1f0f7d2a",
   "metadata": {},
   "outputs": [
    {
     "name": "stdout",
     "output_type": "stream",
     "text": [
      "Выбросы по столбцам (метод IQR):\n",
      "----------------------------------------\n",
      "CLIENTNUM: 0 выбросов (0.0%)\n",
      "Customer_Age: 2 выбросов (0.0%)\n",
      "Dependent_count: 0 выбросов (0.0%)\n",
      "Months_on_book: 386 выбросов (3.8%)\n",
      "Total_Relationship_Count: 0 выбросов (0.0%)\n",
      "Months_Inactive_12_mon: 331 выбросов (3.3%)\n",
      "Contacts_Count_12_mon: 629 выбросов (6.2%)\n",
      "Credit_Limit: 984 выбросов (9.7%)\n",
      "Total_Revolving_Bal: 0 выбросов (0.0%)\n",
      "Avg_Open_To_Buy: 963 выбросов (9.5%)\n",
      "Total_Amt_Chng_Q4_Q1: 396 выбросов (3.9%)\n",
      "Total_Trans_Amt: 896 выбросов (8.8%)\n",
      "Total_Trans_Ct: 2 выбросов (0.0%)\n",
      "Total_Ct_Chng_Q4_Q1: 394 выбросов (3.9%)\n",
      "Avg_Utilization_Ratio: 0 выбросов (0.0%)\n",
      "----------------------------------------\n",
      "Общее количество числовых значений: 151905\n",
      "Общее количество выбросов: 4983\n",
      "Общий процент выбросов: 3.3%\n"
     ]
    }
   ],
   "source": [
    "numeric_columns = df.select_dtypes(include=[np.number]).columns\n",
    "\n",
    "total_outliers = 0\n",
    "total_numeric_values = 0\n",
    "\n",
    "print(\"Выбросы по столбцам (метод IQR):\")\n",
    "print(\"-\" * 40)\n",
    "\n",
    "for column in numeric_columns:\n",
    "    Q1 = df[column].quantile(0.25)\n",
    "    Q3 = df[column].quantile(0.75)\n",
    "    IQR = Q3 - Q1\n",
    "    \n",
    "    lower_bound = Q1 - 1.5 * IQR\n",
    "    upper_bound = Q3 + 1.5 * IQR\n",
    "    \n",
    "    outliers = ((df[column] < lower_bound) | (df[column] > upper_bound)).sum()\n",
    "    outlier_percent = (outliers / len(df)) * 100\n",
    "    \n",
    "    total_outliers += outliers\n",
    "    total_numeric_values += len(df[column])\n",
    "    \n",
    "    print(f\"{column}: {outliers} выбросов ({outlier_percent:.1f}%)\")\n",
    "\n",
    "# Общий процент выбросов среди всех числовых значений\n",
    "overall_outlier_percentage = (total_outliers / total_numeric_values) * 100\n",
    "\n",
    "print(\"-\" * 40)\n",
    "print(f\"Общее количество числовых значений: {total_numeric_values}\")\n",
    "print(f\"Общее количество выбросов: {total_outliers}\")\n",
    "print(f\"Общий процент выбросов: {overall_outlier_percentage:.1f}%\")"
   ]
  }
 ],
 "metadata": {
  "kernelspec": {
   "display_name": "Python 3",
   "language": "python",
   "name": "python3"
  },
  "language_info": {
   "codemirror_mode": {
    "name": "ipython",
    "version": 3
   },
   "file_extension": ".py",
   "mimetype": "text/x-python",
   "name": "python",
   "nbconvert_exporter": "python",
   "pygments_lexer": "ipython3",
   "version": "3.13.2"
  }
 },
 "nbformat": 4,
 "nbformat_minor": 5
}
